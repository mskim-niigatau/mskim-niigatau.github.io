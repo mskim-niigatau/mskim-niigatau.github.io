{
  "nbformat": 4,
  "nbformat_minor": 0,
  "metadata": {
    "kernelspec": {
      "display_name": "Python 3",
      "language": "python",
      "name": "python3"
    },
    "language_info": {
      "codemirror_mode": {
        "name": "ipython",
        "version": 3
      },
      "file_extension": ".py",
      "mimetype": "text/x-python",
      "name": "python",
      "nbconvert_exporter": "python",
      "pygments_lexer": "ipython3",
      "version": "3.7.6"
    },
    "colab": {
      "name": "mod_demo.ipynb",
      "provenance": [],
      "include_colab_link": true
    }
  },
  "cells": [
    {
      "cell_type": "markdown",
      "metadata": {
        "id": "view-in-github",
        "colab_type": "text"
      },
      "source": [
        "<a href=\"https://colab.research.google.com/github/mskim-niigatau/mskim-niigatau.github.io/blob/master/mod_demo.ipynb\" target=\"_parent\"><img src=\"https://colab.research.google.com/assets/colab-badge.svg\" alt=\"Open In Colab\"/></a>"
      ]
    },
    {
      "cell_type": "code",
      "metadata": {
        "id": "ZSES49u2U46x",
        "colab_type": "code",
        "colab": {}
      },
      "source": [
        "import numpy as np\n",
        "import math\n",
        "\n",
        "m = np.array([1,0,1,1,0,1,1,1,0,0,0,1])      # ビット系列\n",
        "M = round(m.shape[0]/2)          # シンボル数（QPSK：2ビット/シンボル)\n",
        "\n",
        "fc = 100;                 # 搬送波周波数 [Hz] \n",
        "R  = 100;                 # シンボルレート [symbols/sec]\n",
        "T  = 1/R;                 # シンボル周期\n",
        "Fs = R*10;                # サンプリング周波数（シンボル周期の10倍）\n",
        "Ts = 1/Fs;                # サンプル周期\n",
        "\n",
        "N  = round(T/Ts);         # シンボル当たりのサンプル数\n",
        "n  = np.arange(M*N);      \n",
        "t  = n*Ts;                # 時間  \n",
        "pi = math.pi;"
      ],
      "execution_count": 0,
      "outputs": []
    },
    {
      "cell_type": "code",
      "metadata": {
        "id": "D0S0fMNVU467",
        "colab_type": "code",
        "colab": {}
      },
      "source": [
        "car = np.exp(np.array(1j*2*pi*fc*t));  # 搬送波（1周期/シンボル）\n",
        "g_t = np.ones(N);          # パルス整形フィルタ"
      ],
      "execution_count": 0,
      "outputs": []
    },
    {
      "cell_type": "code",
      "metadata": {
        "id": "F3i20gDTU47A",
        "colab_type": "code",
        "colab": {}
      },
      "source": [
        "uI = np.zeros((1,M));\n",
        "uQ = np.zeros((1,M));\n",
        "uI_t = [];\n",
        "uQ_t = [];\n",
        "\n",
        "for ii in range(M):\n",
        "    # 符号化（シンボルマッピング）\n",
        "    if m[ii*2] == 0:\n",
        "        if m[ii*2+1] == 0:\n",
        "            ph = pi/4;    # '00'\n",
        "        else:\n",
        "            ph = 3*pi/4;  # '01'\n",
        "    else:\n",
        "        if m[ii*2+1] == 0:\n",
        "            ph = 7*pi/4;  # '10'\n",
        "        else:\n",
        "            ph = 5*pi/4;  # '11'\n",
        "            \n",
        "    # 符号系列\n",
        "    uI[0,ii] = math.cos(ph);\n",
        "    uQ[0,ii] = math.sin(ph);\n",
        "        \n",
        "    # 基底帯域信号\n",
        "    uI_t = np.concatenate([uI_t, g_t*uI[0,ii]], 0);\n",
        "    uQ_t = np.concatenate([uQ_t, g_t*uQ[0,ii]], 0);"
      ],
      "execution_count": 0,
      "outputs": []
    },
    {
      "cell_type": "code",
      "metadata": {
        "id": "jJYqtIphU47E",
        "colab_type": "code",
        "colab": {}
      },
      "source": [
        "u   = uI_t+1j*uQ_t;     # 基底帯域信号\n",
        "s_t = (u*car).real;     # 帯域信号"
      ],
      "execution_count": 0,
      "outputs": []
    }
  ]
}